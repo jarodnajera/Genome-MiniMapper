{
 "cells": [
  {
   "cell_type": "markdown",
   "metadata": {},
   "source": [
    "<hr style=\"height:5px;border-width:2;color:gray;background-color:#000000\"> \n",
    "<center><h1>CS 144 - Spring 2022 - Mini-Mapping Tool</h1></center>\n",
    "<center><h1>Due: Sunday, June 5th, 2022 @ 11:59pm</h1></center>"
   ]
  },
  {
   "cell_type": "markdown",
   "metadata": {},
   "source": [
    "### Enter your information below:\n",
    "\n",
    "<div style=\"color: #000000;background-color: #EEEEFF\">\n",
    "    Your Name (submitter): Jarod Najera <br>\n",
    "    Your student ID (submitter): 862179022\n",
    "<br>\n",
    "<br>\n",
    "<b>By submitting this notebook, I assert that the work below is my own work, completed for this course.  Except where explicitly cited, none of the portions of this notebook are duplicated from anyone else's work or my own previous work.</b>\n",
    "<br>    \n",
    "<br>\n",
    "<b>Instruction for submissions:</B> when you have completed this project, download this .ipynb file to your computer by left-clicking on the file name, and submit to <a href=\"https://elearn.ucr.edu/\">Canvas</A> by the deadline. \n",
    "<br>\n",
    "<br>\n",
    "<B>Late work:</B> There is no late deadline for the final project, except for the most serious circumstances (illness, medical emergency, etc.) which have to be documented.\n",
    "</div>\n"
   ]
  },
  {
   "cell_type": "markdown",
   "metadata": {},
   "source": [
    "<hr style=\"height:5px;border-width:2;color:gray;background-color:#000000\"> \n",
    "<center><h1>Generator</h1></center>\n",
    "<br>\n",
    "\n",
    "In the first part of this project, you will write a <B>read generator</B>, that takes in input \n",
    "<UL>\n",
    "<LI>a reference genome $R$ in <A HREF=\"https://blast.ncbi.nlm.nih.gov/Blast.cgi?CMD=Web&PAGE_TYPE=BlastDocs&DOC_TYPE=BlastHelp\">FASTA</A> format (for instance <A HREF=\"http://www.cs.ucr.edu/~stelo/cs144spring22/data/BD.fa\">the BD genome</A>)</LI>\n",
    "    <LI>integer parameter $N$ </LI>\n",
    "    <li>integer parameter $L$ </LI>\n",
    "</UL>\n",
    "and generates a new file in FASTA format containing $N$ reads composed of exactly $L$ symbols obtained by sampling the genome $R$ at random positions. For instance if $N=100000$ and $L=100$, the generator will produce a FASTA file containing 100 thousand reads from random positions in the genome, each of which is 100 nucleotides long. \n",
    "    \n",
    "The FASTA headers should contain the original genomic position of each read so the mapper can verify that the correctness of the positions. For instance\n",
    "\n",
    "&gt;R1 1,1043<br>\n",
    "ACTTACTTTACTATTCATTCTACATTCTA<br>\n",
    "&gt;R2 3,54654<br>\n",
    "TATTTATTTCTCTTATCTATCTATCTATA<br>\n",
    "\n",
    "is a FASTA file with two reads named R1 and R2. R1 originates from position 1043 and R2 originate from position 54654 in the genome $R$.\n",
    "    \n",
    "You are allowed to use Biopython to read and write FASTA files. It is mandatory to acknowledge sources."
   ]
  },
  {
   "cell_type": "code",
   "execution_count": 9,
   "metadata": {},
   "outputs": [
    {
     "name": "stdout",
     "output_type": "stream",
     "text": [
      "Making reads FASTA\n"
     ]
    }
   ],
   "source": [
    "## YOUR CODE HERE\n",
    "## OK to use Biopython\n",
    "from Bio import SeqIO\n",
    "from Bio.Seq import Seq\n",
    "from Bio.SeqRecord import SeqRecord\n",
    "import random\n",
    "\n",
    "def ReadGenerator(R, N, L):\n",
    "    # 1. Read FASTA file and get genome\n",
    "    genome = ''\n",
    "    i = 0\n",
    "    for seq_record in SeqIO.parse(R, 'fasta'):\n",
    "        if i > 4:\n",
    "            break\n",
    "        genome += str(seq_record.seq)\n",
    "        i += 1\n",
    "    \n",
    "    # 2. Perform N reads of L symbols from R at random positions\n",
    "    n = len(genome)\n",
    "    reads = {}\n",
    "    for i in range(1, N+1):\n",
    "        j = random.randrange(n-L+1)\n",
    "        label = f'R{i} {j}'\n",
    "        curr_read = genome[j:j+L]\n",
    "        reads[label] = curr_read\n",
    "    \n",
    "    # 3. Write reads to FASTA file\n",
    "    f = open('reads.fa', 'x')\n",
    "    for key in reads.keys():\n",
    "        write_record = SeqRecord(Seq(reads[key]), key, '', '')\n",
    "        SeqIO.write(write_record, f, 'fasta')\n",
    "    f.close()\n",
    "        \n",
    "    \n",
    "# main\n",
    "if __name__ == '__main__':\n",
    "    print('Making reads FASTA')\n",
    "    ReadGenerator('bd_genome.fa', 100000, 100)"
   ]
  },
  {
   "cell_type": "markdown",
   "metadata": {},
   "source": [
    "<hr style=\"height:5px;border-width:2;color:gray;background-color:#000000\"> \n",
    "<center><h1>Mapper</h1></center>\n",
    "<br>\n",
    "\n",
    "In the second part, you will write a <B>read mapper</B>, that takes in input\n",
    "<UL>\n",
    "<LI>a reference genome $R$ in FASTA format</LI>\n",
    "<LI>a set $S$ of reads in FASTA format (generated by the generator)</LI>\n",
    "</UL>\n",
    "The read mapper finds the position(s) of each read in $S$ in the genome $R$, and counts how many are mapped correctly by comparing them to the original position stored in the FASTA header. You can use the original position stored in the FASTA headers <B>only</B> to verify the correctness. \n",
    "\n",
    "You are allowed to use any Python package that implements any of the data structures we saw in class (suffix arrays, suffix trees, FM-index (BWT), or hash tables, etc). You should be able install packages using `!pip install package`. It is mandatory to acknowledge sources.\n",
    "\n",
    "Collect experimental results on time spent by the mapper for several choices of $|R|$ (genome size) and $N$. You can keep $L$ fixed at 100. Is the time linear in $|R|$, or is it super-linear? Is the time linear in $N$ or is it super-linear?"
   ]
  },
  {
   "cell_type": "markdown",
   "metadata": {},
   "source": [
    "### Works Cited: Using the suffix-trees 0.3.0 library: https://pypi.org/project/suffix-trees/"
   ]
  },
  {
   "cell_type": "code",
   "execution_count": 97,
   "metadata": {},
   "outputs": [
    {
     "name": "stdout",
     "output_type": "stream",
     "text": [
      "Defaulting to user installation because normal site-packages is not writeable\n",
      "Requirement already satisfied: suffix-trees in /opt/conda/lib/python3.8/site-packages (0.3.0)\n"
     ]
    }
   ],
   "source": [
    "!pip install suffix-trees"
   ]
  },
  {
   "cell_type": "code",
   "execution_count": 10,
   "metadata": {},
   "outputs": [
    {
     "name": "stdout",
     "output_type": "stream",
     "text": [
      "Running ReadMapper\n",
      "98916/98916 sequences were mapped correctly\n",
      "\n",
      "98916 reads were done, with each read being 100 symbols long\n",
      "Mapper took 158.75822186470032 seconds to run\n"
     ]
    }
   ],
   "source": [
    "## YOUR CODE and EXPERIMENTAL RESULTS HERE\n",
    "from Bio import SeqIO\n",
    "from Bio.Seq import Seq\n",
    "from Bio.SeqRecord import SeqRecord\n",
    "import time\n",
    "\n",
    "# Works Cited: Using the suffix-trees 0.3.0 library: https://pypi.org/project/suffix-trees/\n",
    "from suffix_trees import STree\n",
    "\n",
    "\n",
    "def ReadMapper(R, S):\n",
    "    # 1. Make dictionary from reads FASTA file\n",
    "    gen_reads = {}\n",
    "    for seq_record in SeqIO.parse(S, 'fasta'):\n",
    "        curr_pos = seq_record.description\n",
    "        curr_pos = curr_pos.split(' ')\n",
    "        curr_pos = curr_pos[1]\n",
    "        curr_sequence = str(seq_record.seq)\n",
    "        gen_reads[curr_sequence] = int(curr_pos)\n",
    "    \n",
    "    # uncomment for small tests\n",
    "    # print('Printing reads dictionary: {SEQUENCE: RANDOM_POSITION_IN_GENOME}\\n', gen_reads, '\\n')\n",
    "    \n",
    "    # 2. Read genome FASTA file and get genome\n",
    "    genome = ''\n",
    "    i = 0\n",
    "    for seq_record in SeqIO.parse(R, 'fasta'):\n",
    "        if i > 4:\n",
    "            break\n",
    "        genome += str(seq_record.seq)\n",
    "        i += 1\n",
    "    \n",
    "    # 3. Find occurrence of each sequence in the genome \n",
    "    # and keep track of all positions of where its found\n",
    "    # using a suffix tree\n",
    "    seq_pos = {}\n",
    "    st = STree.STree(genome)\n",
    "    for seq in gen_reads.keys():\n",
    "        found_pos = st.find_all(seq)\n",
    "        seq_pos[seq] = found_pos\n",
    "        \n",
    "    # uncomment for small tests\n",
    "    # print('Printing all found positions dictionary: {SEQUENCE: [ALL_POSITIONS_IN_GENOME]}\\n', seq_pos, '\\n')\n",
    "    \n",
    "    # 4. Check how many sequences were mapped correctly\n",
    "    correct_maps = 0\n",
    "    expected_correct = len(gen_reads.keys())\n",
    "    for seq in gen_reads.keys():\n",
    "        map_pos = gen_reads[seq]\n",
    "        all_pos = seq_pos[seq]\n",
    "        \n",
    "        if map_pos in all_pos:\n",
    "            correct_maps += 1\n",
    "    \n",
    "    print(f'{correct_maps}/{expected_correct} sequences were mapped correctly\\n')\n",
    "    \n",
    "    # 5. Print how many reads were done and the length of each read\n",
    "    read_count = len(gen_reads.keys())\n",
    "    read_length = len(list(gen_reads.keys())[0])\n",
    "    print(f'{read_count} reads were done, with each read being {read_length} symbols long')\n",
    "\n",
    "\n",
    "if __name__ == '__main__':\n",
    "    print('Running ReadMapper')\n",
    "    start = time.time()\n",
    "    ReadMapper('bd_genome.fa', 'reads.fa')\n",
    "    end = time.time()\n",
    "    print(f'Mapper took {end - start} seconds to run')"
   ]
  },
  {
   "cell_type": "markdown",
   "metadata": {},
   "source": [
    "# Sample Run:"
   ]
  },
  {
   "cell_type": "markdown",
   "metadata": {},
   "source": [
    "### Running ReadMapper() on 10 reads each 10 symbols long provides this output:\n",
    "Running ReadMapper\n",
    "Printing reads dictionary: {SEQUENCE: RANDOM_POSITION_IN_GENOME}\n",
    " {'GGGCCCAAAT': 1055201, 'CCAGGACCAT': 2468473, 'GAGAGCCAAA': 73571, 'GATCCCTTTG': 563087, 'ATAAAAACTG': 2194026, 'GGGCAATAAT': 581279, 'TCATTAATGG': 2171722, 'TTTTAAAAAC': 277464, 'CTTGATACAT': 1157445, 'ATGTCGTCCT': 1820428} \n",
    "\n",
    "Printing all found positions dictionary: {SEQUENCE: [ALL_POSITIONS_IN_GENOME]}\n",
    " {'GGGCCCAAAT': {1055201, 838901, 1218126, 122631}, 'CCAGGACCAT': {2470279, 2462696, 2466667, 2465227, 2468236, 2484395, 2468719, 2483183, 2468473, 2472761, 2483450}, 'GAGAGCCAAA': {1758937, 2114370, 73571}, 'GATCCCTTTG': {3354088, 771074, 563087}, 'ATAAAAACTG': {1767297, 2468481, 2469255, 2368777, 2467467, 2470287, 2468244, 2463508, 2481559, 1971354, 1666209, 3299136, 2472769, 1805892, 3078472, 1276748, 2310222, 1930319, 897746, 2464467, 2465235, 2959577, 35930, 2461918, 2472550, 3119847, 2194026, 2612208, 2462704, 2483191, 2466675, 2468727, 2704382}, 'GGGCAATAAT': {3402917, 3221096, 2004843, 2097134, 581279, 182619, 436287}, 'TCATTAATGG': {2186050, 2171722, 2489101, 3078895, 1545014, 3352985, 1860090, 2118205, 3363071}, 'TTTTAAAAAC': {1843328, 1237892, 1132804, 163847, 173576, 2876937, 3341, 2319888, 563603, 859411, 169365, 3074709, 1661846, 1119254, 166169, 646042, 3379867, 3341596, 2867999, 1555361, 174627, 1343909, 586025, 2117418, 147498, 2023343, 1438767, 477362, 170419, 519093, 2523573, 2774453, 2005560, 176693, 2858170, 2134208, 2375366, 2820807, 943560, 1351244, 2195662, 2457807, 955343, 685136, 171474, 672467, 528980, 2531407, 540758, 2855887, 277464, 167259, 2851292, 2325724, 2204898, 1862885, 2429931, 172525, 107118, 2961263, 2707184, 168310, 2849014, 1749752, 2785017, 628987}, 'CTTGATACAT': {1157445, 2155143, 2551565, 694738, 2768250}, 'ATGTCGTCCT': {369371, 1820428, 1902327}} \n",
    "\n",
    "10/10 sequences were mapped correctly\n",
    "\n",
    "10 reads were done, with each read being 10 symbols long: Mapper took 37.61522698402405 seconds to run\n",
    "<br>\n",
    "<br>"
   ]
  },
  {
   "cell_type": "markdown",
   "metadata": {},
   "source": [
    "# Running ReadMapper() on different N (|R| is whole genome):"
   ]
  },
  {
   "cell_type": "markdown",
   "metadata": {},
   "source": [
    "### Running ReadMapper() on 100 reads each 100 symbols long provides this output:\n",
    "Running ReadMapper\n",
    "100/100 sequences were mapped correctly\n",
    "\n",
    "100 reads were done, with each read being 100 symbols long\n",
    "Mapper took 103.06477284431458 seconds to run\n",
    "<br>\n",
    "<br>"
   ]
  },
  {
   "cell_type": "markdown",
   "metadata": {},
   "source": [
    "### Running ReadMapper() on 500 reads each 100 symbols long provides this output:\n",
    "Running ReadMapper\n",
    "500/500 sequences were mapped correctly\n",
    "\n",
    "500 reads were done, with each read being 100 symbols long\n",
    "Mapper took 119.03660011291504 seconds to run\n",
    "<br>\n",
    "<br>"
   ]
  },
  {
   "cell_type": "markdown",
   "metadata": {},
   "source": [
    "### Running ReadMapper() on 1000 reads each 100 symbols long provides this output:\n",
    "Running ReadMapper\n",
    "1000/1000 sequences were mapped correctly\n",
    "\n",
    "1000 reads were done, with each read being 100 symbols long\n",
    "Mapper took 122.33800292015076 seconds to run\n",
    "<br>\n",
    "<br>"
   ]
  },
  {
   "cell_type": "markdown",
   "metadata": {
    "tags": []
   },
   "source": [
    "### Running ReadMapper() on 5000 reads each 100 symbols long provides this output:\n",
    "Running ReadMapper\n",
    "5000/5000 sequences were mapped correctly\n",
    "\n",
    "5000 reads were done, with each read being 100 symbols long\n",
    "Mapper took 129.35701847076416 seconds to run\n",
    "<br>\n",
    "<br>"
   ]
  },
  {
   "cell_type": "markdown",
   "metadata": {
    "tags": []
   },
   "source": [
    "### Running ReadMapper() on 10000 reads each 100 symbols long provides this output:\n",
    "Running ReadMapper\n",
    "10000/10000 sequences were mapped correctly\n",
    "\n",
    "10000 reads were done, with each read being 100 symbols long\n",
    "Mapper took 116.09179425239563 seconds to run\n",
    "<br>\n",
    "<br>"
   ]
  },
  {
   "cell_type": "markdown",
   "metadata": {},
   "source": [
    "### Running ReadMapper() on 50000 reads each 100 symbols long provides this output:\n",
    "Running ReadMapper\n",
    "49814/49814 sequences were mapped correctly\n",
    "\n",
    "49814 reads were done, with each read being 100 symbols long\n",
    "Mapper took 209.93605637550354 seconds to run\n",
    "<br>\n",
    "<br>"
   ]
  },
  {
   "cell_type": "markdown",
   "metadata": {},
   "source": [
    "### Running ReadMapper() on 100000 reads each 100 symbols long provides this output:\n",
    "Running ReadMapper\n",
    "99185/99185 sequences were mapped correctly\n",
    "\n",
    "99185 reads were done, with each read being 100 symbols long\n",
    "Mapper took 250.13091158866882 seconds to run\n",
    "<br>\n",
    "<br>"
   ]
  },
  {
   "cell_type": "code",
   "execution_count": 24,
   "metadata": {},
   "outputs": [
    {
     "data": {
      "image/png": "[encoded data removed]",
      "text/plain": [
       "<Figure size 432x288 with 1 Axes>"
      ]
     },
     "metadata": {
      "needs_background": "light"
     },
     "output_type": "display_data"
    }
   ],
   "source": [
    "import matplotlib.pyplot as plt\n",
    "\n",
    "# input size\n",
    "x = [100, 500, 1000, 5000, 10000, 50000, 100000]\n",
    "\n",
    "# runtime\n",
    "y = [103, 119, 122, 129, 116, 209, 250]\n",
    "\n",
    "plt.plot(x, y, label = \"|R| is whole genome\")\n",
    "plt.xlabel('Read Size')\n",
    "plt.ylabel('Runtime (seconds)')\n",
    "plt.title('Read Size vs Runtime')\n",
    "plt.legend()\n",
    "plt.show()"
   ]
  },
  {
   "cell_type": "markdown",
   "metadata": {
    "tags": []
   },
   "source": [
    "# Running ReadMapper() on different N (|R| is 1/9 of the genome):"
   ]
  },
  {
   "cell_type": "markdown",
   "metadata": {},
   "source": [
    "### Running ReadMapper() on 100 reads each 100 symbols long provides this output:\n",
    "Running ReadMapper\n",
    "100/100 sequences were mapped correctly\n",
    "\n",
    "100 reads were done, with each read being 100 symbols long\n",
    "Mapper took 26.816126823425293 seconds to run\n",
    "<br>\n",
    "<br>"
   ]
  },
  {
   "cell_type": "markdown",
   "metadata": {},
   "source": [
    "### Running ReadMapper() on 500 reads each 100 symbols long provides this output:\n",
    "Running ReadMapper\n",
    "500/500 sequences were mapped correctly\n",
    "\n",
    "500 reads were done, with each read being 100 symbols long\n",
    "Mapper took 30.528393507003784 seconds to run\n",
    "<br>\n",
    "<br>"
   ]
  },
  {
   "cell_type": "markdown",
   "metadata": {},
   "source": [
    "### Running ReadMapper() on 1000 reads each 100 symbols long provides this output:\n",
    "Running ReadMapper\n",
    "1000/1000 sequences were mapped correctly\n",
    "\n",
    "1000 reads were done, with each read being 100 symbols long\n",
    "Mapper took 7.45643424987793 seconds to run\n",
    "<br>\n",
    "<br>"
   ]
  },
  {
   "cell_type": "markdown",
   "metadata": {},
   "source": [
    "### Running ReadMapper() on 5000 reads each 100 symbols long provides this output:\n",
    "Running ReadMapper\n",
    "5000/5000 sequences were mapped correctly\n",
    "\n",
    "5000 reads were done, with each read being 100 symbols long\n",
    "Mapper took 33.43825674057007 seconds to run\n",
    "<br>\n",
    "<br>"
   ]
  },
  {
   "cell_type": "markdown",
   "metadata": {
    "tags": []
   },
   "source": [
    "### Running ReadMapper() on 10000 reads each 100 symbols long provides this output:\n",
    "Running ReadMapper\n",
    "10000/10000 sequences were mapped correctly\n",
    "\n",
    "10000 reads were done, with each read being 100 symbols long\n",
    "Mapper took 32.39478588104248 seconds to run\n",
    "<br>\n",
    "<br>"
   ]
  },
  {
   "cell_type": "markdown",
   "metadata": {
    "tags": []
   },
   "source": [
    "### Running ReadMapper() on 50000 reads each 100 symbols long provides this output:\n",
    "Running ReadMapper\n",
    "50000/50000 sequences were mapped correctly\n",
    "\n",
    "50000 reads were done, with each read being 100 symbols long\n",
    "Mapper took 44.568172216415405 seconds to run\n",
    "<br>\n",
    "<br>"
   ]
  },
  {
   "cell_type": "markdown",
   "metadata": {},
   "source": [
    "### Running ReadMapper() on 100000 reads each 100 symbols long provides this output:\n",
    "Running ReadMapper\n",
    "100000/100000 sequences were mapped correctly\n",
    "\n",
    "100000 reads were done, with each read being 100 symbols long\n",
    "Mapper took 57.37743425369263 seconds to run\n",
    "<br>\n",
    "<br>"
   ]
  },
  {
   "cell_type": "code",
   "execution_count": 22,
   "metadata": {},
   "outputs": [
    {
     "data": {
      "image/png": "[encoded data removed]",
      "text/plain": [
       "<Figure size 432x288 with 1 Axes>"
      ]
     },
     "metadata": {
      "needs_background": "light"
     },
     "output_type": "display_data"
    }
   ],
   "source": [
    "import matplotlib.pyplot as plt\n",
    "\n",
    "# input size\n",
    "x = [100, 500, 1000, 5000, 10000, 50000, 100000]\n",
    "\n",
    "# runtime\n",
    "y = [27, 31, 7, 33, 32, 44, 57]\n",
    "\n",
    "plt.plot(x, y, label = \"|R| is 1/9 genome\")\n",
    "plt.xlabel('Read Size')\n",
    "plt.ylabel('Runtime (seconds)')\n",
    "plt.title('Read Size vs Runtime')\n",
    "plt.legend()\n",
    "plt.show()"
   ]
  },
  {
   "cell_type": "markdown",
   "metadata": {},
   "source": [
    "# Running ReadMapper() on different N (|R| is 1/3 of the genome):"
   ]
  },
  {
   "cell_type": "markdown",
   "metadata": {},
   "source": [
    "### Running ReadMapper() on 100 reads each 100 symbols long provides this output:\n",
    "Running ReadMapper\n",
    "100/100 sequences were mapped correctly\n",
    "\n",
    "100 reads were done, with each read being 100 symbols long\n",
    "Mapper took 64.09707307815552 seconds to run\n",
    "<br>\n",
    "<br>"
   ]
  },
  {
   "cell_type": "markdown",
   "metadata": {},
   "source": [
    "### Running ReadMapper() on 500 reads each 100 symbols long provides this output:\n",
    "Running ReadMapper\n",
    "500/500 sequences were mapped correctly\n",
    "\n",
    "500 reads were done, with each read being 100 symbols long\n",
    "Mapper took 91.4073646068573 seconds to run\n",
    "<br>\n",
    "<br>"
   ]
  },
  {
   "cell_type": "markdown",
   "metadata": {},
   "source": [
    "### Running ReadMapper() on 1000 reads each 100 symbols long provides this output:\n",
    "Running ReadMapper\n",
    "1000/1000 sequences were mapped correctly\n",
    "\n",
    "1000 reads were done, with each read being 100 symbols long\n",
    "Mapper took 49.138524770736694 seconds to run\n",
    "<br>\n",
    "<br>"
   ]
  },
  {
   "cell_type": "markdown",
   "metadata": {},
   "source": [
    "### Running ReadMapper() on 5000 reads each 100 symbols long provides this output:\n",
    "Running ReadMapper\n",
    "5000/5000 sequences were mapped correctly\n",
    "\n",
    "5000 reads were done, with each read being 100 symbols long\n",
    "Mapper took 95.24626970291138 seconds to run\n",
    "<br>\n",
    "<br>"
   ]
  },
  {
   "cell_type": "markdown",
   "metadata": {},
   "source": [
    "### Running ReadMapper() on 10000 reads each 100 symbols long provides this output:\n",
    "Running ReadMapper\n",
    "10000/10000 sequences were mapped correctly\n",
    "\n",
    "10000 reads were done, with each read being 100 symbols long\n",
    "Mapper took 70.82056283950806 seconds to run\n",
    "<br>\n",
    "<br>"
   ]
  },
  {
   "cell_type": "markdown",
   "metadata": {
    "tags": []
   },
   "source": [
    "### Running ReadMapper() on 50000 reads each 100 symbols long provides this output:\n",
    "Running ReadMapper\n",
    "50000/50000 sequences were mapped correctly\n",
    "\n",
    "50000 reads were done, with each read being 100 symbols long\n",
    "Mapper took 99.67362594604492 seconds to run\n",
    "<br>\n",
    "<br>"
   ]
  },
  {
   "cell_type": "markdown",
   "metadata": {
    "tags": []
   },
   "source": [
    "### Running ReadMapper() on 100000 reads each 100 symbols long provides this output:\n",
    "Running ReadMapper\n",
    "100000/100000 sequences were mapped correctly\n",
    "\n",
    "100000 reads were done, with each read being 100 symbols long\n",
    "Mapper took 109.11843419075012 seconds to run\n",
    "<br>\n",
    "<br>"
   ]
  },
  {
   "cell_type": "code",
   "execution_count": 21,
   "metadata": {},
   "outputs": [
    {
     "data": {
      "image/png": "[encoded data removed]",
      "text/plain": [
       "<Figure size 432x288 with 1 Axes>"
      ]
     },
     "metadata": {
      "needs_background": "light"
     },
     "output_type": "display_data"
    }
   ],
   "source": [
    "import matplotlib.pyplot as plt\n",
    "\n",
    "# input size\n",
    "x = [100, 500, 1000, 5000, 10000, 50000, 100000]\n",
    "\n",
    "# runtime\n",
    "y = [64, 91, 49, 95, 70, 99, 109]\n",
    "\n",
    "plt.plot(x, y, label = \"|R| is 1/3 genome\")\n",
    "plt.xlabel('Read Size')\n",
    "plt.ylabel('Runtime (seconds)')\n",
    "plt.title('Read Size vs Runtime')\n",
    "plt.legend()\n",
    "plt.show()"
   ]
  },
  {
   "cell_type": "markdown",
   "metadata": {},
   "source": [
    "# Running ReadMapper() on different N (|R| is 1/2 of the genome):"
   ]
  },
  {
   "cell_type": "markdown",
   "metadata": {},
   "source": [
    "### Running ReadMapper() on 100 reads each 100 symbols long provides this output:\n",
    "Running ReadMapper\n",
    "100/100 sequences were mapped correctly\n",
    "\n",
    "100 reads were done, with each read being 100 symbols long\n",
    "Mapper took 106.47621965408325 seconds to run\n",
    "<br>\n",
    "<br>"
   ]
  },
  {
   "cell_type": "markdown",
   "metadata": {},
   "source": [
    "### Running ReadMapper() on 500 reads each 100 symbols long provides this output:\n",
    "Running ReadMapper\n",
    "500/500 sequences were mapped correctly\n",
    "\n",
    "500 reads were done, with each read being 100 symbols long\n",
    "Mapper took 88.22467589378357 seconds to run\n",
    "<br>\n",
    "<br>"
   ]
  },
  {
   "cell_type": "markdown",
   "metadata": {},
   "source": [
    "### Running ReadMapper() on 1000 reads each 100 symbols long provides this output:\n",
    "Running ReadMapper\n",
    "1000/1000 sequences were mapped correctly\n",
    "\n",
    "1000 reads were done, with each read being 100 symbols long\n",
    "Mapper took 92.3170166015625 seconds to run\n",
    "<br>\n",
    "<br>"
   ]
  },
  {
   "cell_type": "markdown",
   "metadata": {},
   "source": [
    "### Running ReadMapper() on 5000 reads each 100 symbols long provides this output:\n",
    "Running ReadMapper\n",
    "5000/5000 sequences were mapped correctly\n",
    "\n",
    "5000 reads were done, with each read being 100 symbols long\n",
    "Mapper took 57.216466426849365 seconds to run\n",
    "<br>\n",
    "<br>"
   ]
  },
  {
   "cell_type": "markdown",
   "metadata": {},
   "source": [
    "### Running ReadMapper() on 10000 reads each 100 symbols long provides this output:\n",
    "Running ReadMapper\n",
    "10000/10000 sequences were mapped correctly\n",
    "\n",
    "10000 reads were done, with each read being 100 symbols long\n",
    "Mapper took 70.49220156669617 seconds to run\n",
    "<br>\n",
    "<br>"
   ]
  },
  {
   "cell_type": "markdown",
   "metadata": {},
   "source": [
    "### Running ReadMapper() on 50000 reads each 100 symbols long provides this output:\n",
    "Running ReadMapper\n",
    "49706/49706 sequences were mapped correctly\n",
    "\n",
    "49706 reads were done, with each read being 100 symbols long\n",
    "Mapper took 110.99520230293274 seconds to run\n",
    "<br>\n",
    "<br>"
   ]
  },
  {
   "cell_type": "markdown",
   "metadata": {},
   "source": [
    "### Running ReadMapper() on 100000 reads each 100 symbols long provides this output:\n",
    "Running ReadMapper\n",
    "98916/98916 sequences were mapped correctly\n",
    "\n",
    "98916 reads were done, with each read being 100 symbols long\n",
    "Mapper took 158.75822186470032 seconds to run\n",
    "<br>\n",
    "<br>"
   ]
  },
  {
   "cell_type": "code",
   "execution_count": 25,
   "metadata": {},
   "outputs": [
    {
     "data": {
      "image/png": "[encoded data removed]",
      "text/plain": [
       "<Figure size 432x288 with 1 Axes>"
      ]
     },
     "metadata": {
      "needs_background": "light"
     },
     "output_type": "display_data"
    }
   ],
   "source": [
    "import matplotlib.pyplot as plt\n",
    "\n",
    "# input size\n",
    "x = [100, 500, 1000, 5000, 10000, 50000, 100000]\n",
    "\n",
    "# runtime\n",
    "y = [106, 88, 92, 57, 70, 110, 158]\n",
    "\n",
    "plt.plot(x, y, label = \"|R| is 1/2 genome\")\n",
    "plt.xlabel('Read Size')\n",
    "plt.ylabel('Runtime (seconds)')\n",
    "plt.title('Read Size vs Runtime')\n",
    "plt.legend()\n",
    "plt.show()"
   ]
  },
  {
   "cell_type": "markdown",
   "metadata": {},
   "source": [
    "## All plots:"
   ]
  },
  {
   "cell_type": "code",
   "execution_count": 26,
   "metadata": {},
   "outputs": [
    {
     "data": {
      "image/png": "[encoded data removed]",
      "text/plain": [
       "<Figure size 432x288 with 1 Axes>"
      ]
     },
     "metadata": {
      "needs_background": "light"
     },
     "output_type": "display_data"
    }
   ],
   "source": [
    "import matplotlib.pyplot as plt\n",
    "\n",
    "# input size\n",
    "x = [100, 500, 1000, 5000, 10000, 50000, 100000]\n",
    "\n",
    "# runtime\n",
    "y = [103, 119, 122, 129, 116, 209, 250]\n",
    "\n",
    "plt.plot(x, y, label = \"|R| is whole genome\")\n",
    "\n",
    "# input size\n",
    "x = [100, 500, 1000, 5000, 10000, 50000, 100000]\n",
    "\n",
    "# runtime\n",
    "y = [27, 31, 7, 33, 32, 44, 57]\n",
    "\n",
    "plt.plot(x, y, label = \"|R| is 1/9 genome\")\n",
    "\n",
    "# input size\n",
    "x = [100, 500, 1000, 5000, 10000, 50000, 100000]\n",
    "\n",
    "# runtime\n",
    "y = [64, 91, 49, 95, 70, 99, 109]\n",
    "\n",
    "plt.plot(x, y, label = \"|R| is 1/3 genome\")\n",
    "\n",
    "# input size\n",
    "x = [100, 500, 1000, 5000, 10000, 50000, 100000]\n",
    "\n",
    "# runtime\n",
    "y = [106, 88, 92, 57, 70, 110, 158]\n",
    "\n",
    "plt.plot(x, y, label = \"|R| is 1/2 genome\")\n",
    "\n",
    "plt.xlabel('Read Size')\n",
    "plt.ylabel('Runtime (seconds)')\n",
    "plt.title('Read Size vs Runtime')\n",
    "plt.legend()\n",
    "plt.show()"
   ]
  },
  {
   "cell_type": "markdown",
   "metadata": {},
   "source": [
    "# Conclusion:\n",
    "### Time is linear for N, and time is super-linear for |R|\n",
    "## Reasoning:\n",
    "### Looking at the plot, we can see that each line scales evenly as N grows, so the time for N is linear. Also, looking at the plot, if we choose a value for read size, we see that there is a large different between each line for their runtime as |R| grows, so the time for |R| is super-linear. \n",
    "<br>\n",
    "<br>\n",
    "<br>\n",
    "<br>\n",
    "<br>"
   ]
  },
  {
   "cell_type": "markdown",
   "metadata": {},
   "source": [
    "# Experiment (for fun):"
   ]
  },
  {
   "cell_type": "markdown",
   "metadata": {},
   "source": [
    "# Compare to using re (regular expression) library"
   ]
  },
  {
   "cell_type": "code",
   "execution_count": 118,
   "metadata": {},
   "outputs": [
    {
     "name": "stdout",
     "output_type": "stream",
     "text": [
      "Running ReadMapper\n",
      "9979/9981 sequences were mapped correctly\n",
      "\n",
      "9981 reads were done, with each read being 100 symbols long\n",
      "Mapper took 130.8925266265869 seconds to run\n"
     ]
    }
   ],
   "source": [
    "# Using re (regular expression) library\n",
    "## YOUR CODE and EXPERIMENTAL RESULTS HERE\n",
    "from Bio import SeqIO\n",
    "from Bio.Seq import Seq\n",
    "from Bio.SeqRecord import SeqRecord\n",
    "import re\n",
    "import time\n",
    "\n",
    "def ReadMapper(R, S):\n",
    "    # 1. Make dictionary from reads FASTA file\n",
    "    gen_reads = {}\n",
    "    for seq_record in SeqIO.parse(S, 'fasta'):\n",
    "        curr_pos = seq_record.description\n",
    "        curr_pos = curr_pos.split(' ')\n",
    "        curr_pos = curr_pos[1]\n",
    "        curr_sequence = str(seq_record.seq)\n",
    "        gen_reads[curr_sequence] = int(curr_pos)\n",
    "    \n",
    "    # uncomment for small tests\n",
    "    # print('Printing reads dictionary: {SEQUENCE: RANDOM_POSITION_IN_GENOME}\\n', gen_reads, '\\n')\n",
    "    \n",
    "    # 2. Read genome FASTA file and get genome\n",
    "    genome = ''\n",
    "    i = 0\n",
    "    for seq_record in SeqIO.parse(R, 'fasta'):\n",
    "        if i > 2:\n",
    "            break\n",
    "        genome += str(seq_record.seq)\n",
    "        i += 1\n",
    "    \n",
    "    # 3. Find occurrence of each sequence in the genome \n",
    "    # and keep track of all positions of where its found\n",
    "    seq_pos = {}\n",
    "    for seq in gen_reads.keys():\n",
    "        found_pos = [m.start() for m in re.finditer(seq, genome)]\n",
    "        seq_pos[seq] = found_pos\n",
    "        \n",
    "    # uncomment for small tests\n",
    "    # print('Printing all found positions dictionary: {SEQUENCE: [ALL_POSITIONS_IN_GENOME]}\\n', seq_pos, '\\n')\n",
    "    \n",
    "    # 4. Check how many sequences were mapped correctly\n",
    "    correct_maps = 0\n",
    "    expected_correct = len(gen_reads.keys())\n",
    "    for seq in gen_reads.keys():\n",
    "        map_pos = gen_reads[seq]\n",
    "        all_pos = seq_pos[seq]\n",
    "        \n",
    "        if map_pos in all_pos:\n",
    "            correct_maps += 1\n",
    "    \n",
    "    print(f'{correct_maps}/{expected_correct} sequences were mapped correctly\\n')\n",
    "    \n",
    "    # 5. Print how many reads were done and the length of each read\n",
    "    read_count = len(gen_reads.keys())\n",
    "    read_length = len(list(gen_reads.keys())[0])\n",
    "    print(f'{read_count} reads were done, with each read being {read_length} symbols long')\n",
    "\n",
    "\n",
    "if __name__ == '__main__':\n",
    "    print('Running ReadMapper')\n",
    "    start = time.time()\n",
    "    ReadMapper('bd_genome.fa', 'reads.fa')\n",
    "    end = time.time()\n",
    "    print(f'Mapper took {end - start} seconds to run')"
   ]
  },
  {
   "cell_type": "markdown",
   "metadata": {},
   "source": [
    "# Running ReadMapper() on different N:"
   ]
  },
  {
   "cell_type": "markdown",
   "metadata": {},
   "source": [
    "### Running ReadMapper() on 10 reads each 10 symbols long provides this output:\n",
    "Running ReadMapper\n",
    "Printing reads dictionary: {SEQUENCE: RANDOM_POSITION_IN_GENOME}\n",
    " {'GGGCCCAAAT': 1055201, 'CCAGGACCAT': 2468473, 'GAGAGCCAAA': 73571, 'GATCCCTTTG': 563087, 'ATAAAAACTG': 2194026, 'GGGCAATAAT': 581279, 'TCATTAATGG': 2171722, 'TTTTAAAAAC': 277464, 'CTTGATACAT': 1157445, 'ATGTCGTCCT': 1820428} \n",
    "\n",
    "Printing all found positions dictionary: {SEQUENCE: [ALL_POSITIONS_IN_GENOME]}\n",
    " {'GGGCCCAAAT': [122631, 838901, 1055201, 1218126], 'CCAGGACCAT': [2462696, 2465227, 2466667, 2468236, 2468473, 2468719, 2470279, 2472761, 2483183, 2483450, 2484395], 'GAGAGCCAAA': [73571, 1758937, 2114370], 'GATCCCTTTG': [563087, 771074, 3354088], 'ATAAAAACTG': [35930, 897746, 1276748, 1666209, 1767297, 1805892, 1930319, 1971354, 2194026, 2310222, 2368777, 2461918, 2462704, 2463508, 2464467, 2465235, 2466675, 2467467, 2468244, 2468481, 2468727, 2469255, 2470287, 2472550, 2472769, 2481559, 2483191, 2612208, 2704382, 2959577, 3078472, 3119847, 3299136], 'GGGCAATAAT': [182619, 436287, 581279, 2004843, 2097134, 3221096, 3402917], 'TCATTAATGG': [1545014, 1860090, 2118205, 2171722, 2186050, 2489101, 3078895, 3352985, 3363071], 'TTTTAAAAAC': [3341, 107118, 147498, 163847, 166169, 167259, 168310, 169365, 170419, 171474, 172525, 173576, 174627, 176693, 277464, 477362, 519093, 528980, 540758, 563603, 586025, 628987, 646042, 672467, 685136, 859411, 943560, 955343, 1119254, 1132804, 1237892, 1343909, 1351244, 1438767, 1555361, 1661846, 1749752, 1843328, 1862885, 2005560, 2023343, 2117418, 2134208, 2195662, 2204898, 2319888, 2325724, 2375366, 2429931, 2457807, 2523573, 2531407, 2707184, 2774453, 2785017, 2820807, 2849014, 2851292, 2855887, 2858170, 2867999, 2876937, 2961263, 3074709, 3341596, 3379867], 'CTTGATACAT': [694738, 1157445, 2155143, 2551565, 2768250], 'ATGTCGTCCT': [369371, 1820428, 1902327]} \n",
    "\n",
    "10/10 sequences were mapped correctly\n",
    "\n",
    "10 reads were done, with each read being 10 symbols long:\n",
    "Mapper took 0.28342747688293457 seconds to run\n",
    "<br>\n",
    "<br>"
   ]
  },
  {
   "cell_type": "markdown",
   "metadata": {},
   "source": [
    "### Running ReadMapper() on 100 reads each 10 symbols long provides this output:\n",
    "Running ReadMapper\n",
    "100/100 sequences were mapped correctly\n",
    "\n",
    "100 reads were done, with each read being 10 symbols long:\n",
    "Mapper took 1.547407865524292 seconds to run\n",
    "<br>\n",
    "<br>"
   ]
  },
  {
   "cell_type": "markdown",
   "metadata": {},
   "source": [
    "### Running ReadMapper() on 100 reads each 100 symbols long provides this output:\n",
    "Running ReadMapper\n",
    "100/100 sequences were mapped correctly\n",
    "\n",
    "100 reads were done, with each read being 100 symbols long:\n",
    "Mapper took 1.5418519973754883 seconds to run\n",
    "<br>\n",
    "<br>"
   ]
  },
  {
   "cell_type": "markdown",
   "metadata": {},
   "source": [
    "### Running ReadMapper() on 1000 reads each 100 symbols long provides this output:\n",
    "Running ReadMapper\n",
    "1000/1000 sequences were mapped correctly\n",
    "\n",
    "1000 reads were done, with each read being 100 symbols long:\n",
    "Mapper took 13.530450820922852 seconds to run\n",
    "<br>\n",
    "<br>"
   ]
  },
  {
   "cell_type": "markdown",
   "metadata": {},
   "source": [
    "### Running ReadMapper() on 10000 reads each 100 symbols long provides this output:\n",
    "Running ReadMapper\n",
    "9979/9981 sequences were mapped correctly\n",
    "\n",
    "9981 reads were done, with each read being 100 symbols long:\n",
    "Mapper took 130.8925266265869 seconds to run\n",
    "<br>\n",
    "<br>"
   ]
  },
  {
   "cell_type": "markdown",
   "metadata": {},
   "source": [
    "## RE was faster at first, but then became very slow as N grew"
   ]
  },
  {
   "cell_type": "code",
   "execution_count": null,
   "metadata": {},
   "outputs": [],
   "source": []
  }
 ],
 "metadata": {
  "kernelspec": {
   "display_name": "UCR CS 144",
   "language": "python",
   "name": "cs144_spring2021"
  },
  "language_info": {
   "codemirror_mode": {
    "name": "ipython",
    "version": 3
   },
   "file_extension": ".py",
   "mimetype": "text/x-python",
   "name": "python",
   "nbconvert_exporter": "python",
   "pygments_lexer": "ipython3",
   "version": "3.8.5"
  }
 },
 "nbformat": 4,
 "nbformat_minor": 4
}
